{
  "nbformat": 4,
  "nbformat_minor": 0,
  "metadata": {
    "colab": {
      "name": "group12_Phase3.ipynb",
      "provenance": [],
      "collapsed_sections": []
    },
    "kernelspec": {
      "name": "python3",
      "display_name": "Python 3"
    },
    "language_info": {
      "name": "python"
    },
    "widgets": {
      "application/vnd.jupyter.widget-state+json": {
        "15e2f52131094701b09facacb2cd33ea": {
          "model_module": "@jupyter-widgets/controls",
          "model_name": "HBoxModel",
          "state": {
            "_view_name": "HBoxView",
            "_dom_classes": [],
            "_model_name": "HBoxModel",
            "_view_module": "@jupyter-widgets/controls",
            "_model_module_version": "1.5.0",
            "_view_count": null,
            "_view_module_version": "1.5.0",
            "box_style": "",
            "layout": "IPY_MODEL_492f0a0e883447aab3aa8826bb7dafb0",
            "_model_module": "@jupyter-widgets/controls",
            "children": [
              "IPY_MODEL_6fd8bd9c751542e1a82da9af93b1ea1a",
              "IPY_MODEL_dc3c0c194aae4e56b73be5fbe4ce11cc"
            ]
          }
        },
        "492f0a0e883447aab3aa8826bb7dafb0": {
          "model_module": "@jupyter-widgets/base",
          "model_name": "LayoutModel",
          "state": {
            "_view_name": "LayoutView",
            "grid_template_rows": null,
            "right": null,
            "justify_content": null,
            "_view_module": "@jupyter-widgets/base",
            "overflow": null,
            "_model_module_version": "1.2.0",
            "_view_count": null,
            "flex_flow": null,
            "width": null,
            "min_width": null,
            "border": null,
            "align_items": null,
            "bottom": null,
            "_model_module": "@jupyter-widgets/base",
            "top": null,
            "grid_column": null,
            "overflow_y": null,
            "overflow_x": null,
            "grid_auto_flow": null,
            "grid_area": null,
            "grid_template_columns": null,
            "flex": null,
            "_model_name": "LayoutModel",
            "justify_items": null,
            "grid_row": null,
            "max_height": null,
            "align_content": null,
            "visibility": null,
            "align_self": null,
            "height": null,
            "min_height": null,
            "padding": null,
            "grid_auto_rows": null,
            "grid_gap": null,
            "max_width": null,
            "order": null,
            "_view_module_version": "1.2.0",
            "grid_template_areas": null,
            "object_position": null,
            "object_fit": null,
            "grid_auto_columns": null,
            "margin": null,
            "display": null,
            "left": null
          }
        },
        "6fd8bd9c751542e1a82da9af93b1ea1a": {
          "model_module": "@jupyter-widgets/controls",
          "model_name": "FloatProgressModel",
          "state": {
            "_view_name": "ProgressView",
            "style": "IPY_MODEL_720892db49eb4e0bba20642c4bbbc99c",
            "_dom_classes": [],
            "description": "100%",
            "_model_name": "FloatProgressModel",
            "bar_style": "success",
            "max": 20,
            "_view_module": "@jupyter-widgets/controls",
            "_model_module_version": "1.5.0",
            "value": 20,
            "_view_count": null,
            "_view_module_version": "1.5.0",
            "orientation": "horizontal",
            "min": 0,
            "description_tooltip": null,
            "_model_module": "@jupyter-widgets/controls",
            "layout": "IPY_MODEL_0ad56fb6791f44f4bdcf510335feff16"
          }
        },
        "dc3c0c194aae4e56b73be5fbe4ce11cc": {
          "model_module": "@jupyter-widgets/controls",
          "model_name": "HTMLModel",
          "state": {
            "_view_name": "HTMLView",
            "style": "IPY_MODEL_66ac309172ee40b9b0e54b93352e985e",
            "_dom_classes": [],
            "description": "",
            "_model_name": "HTMLModel",
            "placeholder": "​",
            "_view_module": "@jupyter-widgets/controls",
            "_model_module_version": "1.5.0",
            "value": " 20/20 [21:00&lt;00:00, 63.03s/it]",
            "_view_count": null,
            "_view_module_version": "1.5.0",
            "description_tooltip": null,
            "_model_module": "@jupyter-widgets/controls",
            "layout": "IPY_MODEL_9518c9d9fd334b8fb44f68619840f38c"
          }
        },
        "720892db49eb4e0bba20642c4bbbc99c": {
          "model_module": "@jupyter-widgets/controls",
          "model_name": "ProgressStyleModel",
          "state": {
            "_view_name": "StyleView",
            "_model_name": "ProgressStyleModel",
            "description_width": "initial",
            "_view_module": "@jupyter-widgets/base",
            "_model_module_version": "1.5.0",
            "_view_count": null,
            "_view_module_version": "1.2.0",
            "bar_color": null,
            "_model_module": "@jupyter-widgets/controls"
          }
        },
        "0ad56fb6791f44f4bdcf510335feff16": {
          "model_module": "@jupyter-widgets/base",
          "model_name": "LayoutModel",
          "state": {
            "_view_name": "LayoutView",
            "grid_template_rows": null,
            "right": null,
            "justify_content": null,
            "_view_module": "@jupyter-widgets/base",
            "overflow": null,
            "_model_module_version": "1.2.0",
            "_view_count": null,
            "flex_flow": null,
            "width": null,
            "min_width": null,
            "border": null,
            "align_items": null,
            "bottom": null,
            "_model_module": "@jupyter-widgets/base",
            "top": null,
            "grid_column": null,
            "overflow_y": null,
            "overflow_x": null,
            "grid_auto_flow": null,
            "grid_area": null,
            "grid_template_columns": null,
            "flex": null,
            "_model_name": "LayoutModel",
            "justify_items": null,
            "grid_row": null,
            "max_height": null,
            "align_content": null,
            "visibility": null,
            "align_self": null,
            "height": null,
            "min_height": null,
            "padding": null,
            "grid_auto_rows": null,
            "grid_gap": null,
            "max_width": null,
            "order": null,
            "_view_module_version": "1.2.0",
            "grid_template_areas": null,
            "object_position": null,
            "object_fit": null,
            "grid_auto_columns": null,
            "margin": null,
            "display": null,
            "left": null
          }
        },
        "66ac309172ee40b9b0e54b93352e985e": {
          "model_module": "@jupyter-widgets/controls",
          "model_name": "DescriptionStyleModel",
          "state": {
            "_view_name": "StyleView",
            "_model_name": "DescriptionStyleModel",
            "description_width": "",
            "_view_module": "@jupyter-widgets/base",
            "_model_module_version": "1.5.0",
            "_view_count": null,
            "_view_module_version": "1.2.0",
            "_model_module": "@jupyter-widgets/controls"
          }
        },
        "9518c9d9fd334b8fb44f68619840f38c": {
          "model_module": "@jupyter-widgets/base",
          "model_name": "LayoutModel",
          "state": {
            "_view_name": "LayoutView",
            "grid_template_rows": null,
            "right": null,
            "justify_content": null,
            "_view_module": "@jupyter-widgets/base",
            "overflow": null,
            "_model_module_version": "1.2.0",
            "_view_count": null,
            "flex_flow": null,
            "width": null,
            "min_width": null,
            "border": null,
            "align_items": null,
            "bottom": null,
            "_model_module": "@jupyter-widgets/base",
            "top": null,
            "grid_column": null,
            "overflow_y": null,
            "overflow_x": null,
            "grid_auto_flow": null,
            "grid_area": null,
            "grid_template_columns": null,
            "flex": null,
            "_model_name": "LayoutModel",
            "justify_items": null,
            "grid_row": null,
            "max_height": null,
            "align_content": null,
            "visibility": null,
            "align_self": null,
            "height": null,
            "min_height": null,
            "padding": null,
            "grid_auto_rows": null,
            "grid_gap": null,
            "max_width": null,
            "order": null,
            "_view_module_version": "1.2.0",
            "grid_template_areas": null,
            "object_position": null,
            "object_fit": null,
            "grid_auto_columns": null,
            "margin": null,
            "display": null,
            "left": null
          }
        }
      }
    }
  },
  "cells": [
    {
      "cell_type": "markdown",
      "metadata": {
        "id": "SYT-2x47-sjY"
      },
      "source": [
        "# CS331 - Spring 2021 - Phase 3 [5%]\n",
        "\n",
        "*__Submission Guidelines:__*\n",
        "- Naming convention for submission of this notebook is `groupXX_Phase3.ipynb` where XX needs to be replaced by your group number. For example: group 1 would rename their notebook to `group01_Phase3.ipynb`\n",
        "- Only the group lead is supposed to make the submission\n",
        "- You need to submit this file as an .ipynb along with a .zip file of your own dataset and a document via LMS \n",
        "- The naming convention for the dataset is `groupXX_Dataset.zip`. Replace XX with the group number. The dataset <b>must</b> be a .zip file\n",
        "- For the document, the naming convention is `groupXX_Document.pdf` where XX needs to be replaced by your group number. In the document, you have to tell why you chose the preprocessing methods that you chose and also justify the choice of network and the hyperparamters. Essentially, document the process of phase 3. The document should not be longer than 2 pages and less than 1 page\n",
        "- All the cells <b>must</b> be run once before submission. If your submission's cells are not showing the results (plots etc.), marks wil be deducted\n",
        "- Only the code written within this notebook will be considered while grading. No other files will be entertained\n",
        "- You are advised to follow good programming practies including approriate variable naming and making use of logical comments \n",
        "\n",
        "The university honor code should be maintained. Any violation, if found, will result in disciplinary action. \n"
      ]
    },
    {
      "cell_type": "markdown",
      "metadata": {
        "id": "zpC12Mye-9uZ"
      },
      "source": [
        "#### <b>Introduction</b> \n",
        "This is the final phase of this offering's project. By now you guys have managed to build a multi-layer NN from scratch which is capable of scoring decent accuracy on the Fashion MNIST dataset. In this phase, we are going to shift our focus to the process of data engineering. You will be creating your own dataset (details will be disclosed as you follow along), you will have to carry out some preprocessing on this dataset of yours and will use this to evaluate your network from phase 2. This will also involove the tedious process of tweaking the hyperparamters so that your network scores higher accuracy scores on your own, novel, dataset\n",
        "\n",
        "###### <b>IMPORTANT\n",
        "\n",
        "###### Modification of the provided code without prior discussion with the TAs will result in a grade deduction</b>\n",
        "\n",
        "---\n",
        "\n",
        "###### <b>Side note</b>\n",
        "The `plot_model` method will only work if you have the `pydot` python package installed along with [Graphviz](https://graphviz.gitlab.io/download/). If you do not wish to use this then simply comment out the import for `pydot`\n",
        "\n",
        "###### <b>Need Help?</b>\n",
        "If you need help, please refer to the course staff ASAP and do not wait till the last moment as they might not be available on very short notice close to deadlines"
      ]
    },
    {
      "cell_type": "markdown",
      "metadata": {
        "id": "idDbgABDBuvZ"
      },
      "source": [
        "#### <b>PART 1</b>\n",
        "\n",
        "This part is essentially the copy pasting of the codes from cells of your phase 2's notebook to the cells of this notebook. The intent is to replicate your phase 2's network and train (using the same OR different hyperparamters) it so that it can be used to evlaute the novel dataset (that will be part 2 of this phase)"
      ]
    },
    {
      "cell_type": "code",
      "metadata": {
        "id": "s0OE_p0V-q-H"
      },
      "source": [
        "# making all the necessary imports here\n",
        "\n",
        "import numpy as np\n",
        "import pandas as pd\n",
        "import time\n",
        "%matplotlib inline\n",
        "import matplotlib.pyplot as plt\n",
        "plt.style.use('seaborn')\n",
        "from IPython.display import Image\n",
        "import pydot\n",
        "from tqdm import tqdm_notebook\n",
        "import seaborn as sns\n",
        "from keras.datasets import fashion_mnist\n",
        "from sklearn.model_selection import train_test_split\n",
        "from keras.utils import np_utils\n",
        "from sklearn.datasets import make_moons\n",
        "from sklearn.linear_model import LinearRegression, LogisticRegression\n",
        "from sklearn.metrics import confusion_matrix,classification_report\n",
        "from google.colab import drive\n",
        "import glob\n",
        "import cv2"
      ],
      "execution_count": 1,
      "outputs": []
    },
    {
      "cell_type": "code",
      "metadata": {
        "id": "sz6xWsK3B-k4"
      },
      "source": [
        "# This function will be used to plot the confusion matrix at the end of this notebook\n",
        "\n",
        "def plot_confusion_matrix(conf_mat):\n",
        "    classes = ['T-shirt/top','Trouser/pants','Pullover shirt','Dress','Coat','Sandal','Shirt','Sneaker','Bag','Ankle boot']\n",
        "    df_cm = pd.DataFrame(conf_mat,classes,classes)\n",
        "    plt.figure(figsize=(15,9))\n",
        "    sns.set(font_scale=1.4)\n",
        "    sns.heatmap(df_cm, annot=True,annot_kws={\"size\": 16})\n",
        "    plt.show()\n",
        "\n",
        "class_labels = ['T-shirt/top','Trouser/pants','Pullover shirt','Dress','Coat','Sandal','Shirt','Sneaker','Bag','Ankle boot']"
      ],
      "execution_count": 2,
      "outputs": []
    },
    {
      "cell_type": "code",
      "metadata": {
        "id": "J8vdVLQ0B_bd"
      },
      "source": [
        "# Enter group lead's roll number here. This will be used for plotting purposes\n",
        "\n",
        "rollnumber = 22100145"
      ],
      "execution_count": 3,
      "outputs": []
    },
    {
      "cell_type": "markdown",
      "metadata": {
        "id": "MK2xKOxzCqgE"
      },
      "source": [
        "#### __Dataset from Keras Library__\n",
        "\n",
        "The required library has been imported for you as fashion_mnist. Use it to load the train and test data accordingly."
      ]
    },
    {
      "cell_type": "code",
      "metadata": {
        "id": "2ehOJSGECqOD",
        "colab": {
          "base_uri": "https://localhost:8080/"
        },
        "outputId": "c4b171c5-2254-4028-8833-48ee15a444d1"
      },
      "source": [
        "classes = 10 # Do not change this\n",
        "import tensorflow as tf\n",
        "\n",
        "\n",
        "(X_train, y_train), (X_test, y_test) = fashion_mnist.load_data()\n",
        "\n",
        "\n",
        "y_train = tf.keras.utils.to_categorical(\n",
        "    y_train, num_classes=10, dtype='float32'\n",
        ")\n",
        "\n",
        "y_test = tf.keras.utils.to_categorical(\n",
        "    y_test, num_classes=10, dtype='float32'\n",
        ")\n",
        "\n",
        "X_train = X_train.flatten().reshape(60000,784)\n",
        "X_test = X_test.flatten().reshape(10000,784)\n",
        "X_test = X_test/255.0\n",
        "X_train = X_train/255.0\n",
        "print(\"xtrain\",X_train.shape)\n",
        "print(\"x test\",X_test.shape)\n",
        "print(\"ytrain\",y_train.shape)\n",
        "print(\"ytest\",y_test.shape)\n",
        "\n"
      ],
      "execution_count": 4,
      "outputs": [
        {
          "output_type": "stream",
          "text": [
            "Downloading data from https://storage.googleapis.com/tensorflow/tf-keras-datasets/train-labels-idx1-ubyte.gz\n",
            "32768/29515 [=================================] - 0s 0us/step\n",
            "Downloading data from https://storage.googleapis.com/tensorflow/tf-keras-datasets/train-images-idx3-ubyte.gz\n",
            "26427392/26421880 [==============================] - 0s 0us/step\n",
            "Downloading data from https://storage.googleapis.com/tensorflow/tf-keras-datasets/t10k-labels-idx1-ubyte.gz\n",
            "8192/5148 [===============================================] - 0s 0us/step\n",
            "Downloading data from https://storage.googleapis.com/tensorflow/tf-keras-datasets/t10k-images-idx3-ubyte.gz\n",
            "4423680/4422102 [==============================] - 0s 0us/step\n",
            "xtrain (60000, 784)\n",
            "x test (10000, 784)\n",
            "ytrain (60000, 10)\n",
            "ytest (10000, 10)\n"
          ],
          "name": "stdout"
        }
      ]
    },
    {
      "cell_type": "markdown",
      "metadata": {
        "id": "BLeZFElYFINX"
      },
      "source": [
        "#### __NN Implementation__\n",
        "Your implementation of NN needs to use the `sigmoid` activation function for all hidden layers and the `softmax` activation function for the output layer. The NN model you will be creating here will consits of only three layers: 1 input layer, n hidden layers (where you have the liberty to define n) and 1 output layer."
      ]
    },
    {
      "cell_type": "code",
      "metadata": {
        "id": "rVq8Oq-MD2wZ"
      },
      "source": [
        "class NeuralNetwork():\n",
        "    @staticmethod\n",
        "    def cross_entropy_loss(y_pred, y_true):\n",
        "        # implement cross_entropy_loss function\n",
        "        #TO DO\n",
        "        loss = - np.sum(y_true * np.log(y_pred),axis = 1, keepdims = True)\n",
        "        # cost = np.mean(loss)\n",
        "        # dim = loss.shape\n",
        "        # print(dim)\n",
        "        # print(\"loss\", loss.shape)\n",
        "        return np.sum(loss)\n",
        "        \n",
        "\n",
        "    @staticmethod\n",
        "    def accuracy(y_pred, y_true):\n",
        "        # implement accuracy function\n",
        "        #TO DO\n",
        "        count = 0 \n",
        "        for i in range(len(y_pred)):\n",
        "          if y_pred[i] == y_true[i]:\n",
        "            count = count + 1\n",
        "          \n",
        "        return count/len(y_pred)\n",
        "\n",
        "    @staticmethod\n",
        "    def softmax(x):\n",
        "        # implement softmax function\n",
        "        #TO DO\n",
        "        x = np.exp(x)\n",
        "        return x/np.sum(x) \n",
        "\n",
        "    @staticmethod\n",
        "    def sigmoid(x):\n",
        "        #TO DO\n",
        "        x = -x \n",
        "        exp = np.exp(x) + 1\n",
        "        return 1/exp\n",
        "        \n",
        "\n",
        "    def __init__(self, nodes_per_layer):\n",
        "        '''Creates a Feed-Forward Neural Network.\n",
        "        The parameters represent the number of nodes in each layer. \n",
        "        Look at the inputs to the function, and use 'try and accept'\n",
        "        to catch errors if number of layers are < 2.\n",
        "        '''\n",
        "        \n",
        "        if len(nodes_per_layer) < 2:\n",
        "          raise Exception('Cannot have less than 2 hidden layers')\n",
        "        self.num_layers = 2+len(nodes_per_layer) # including input and output layers\n",
        "        self.nodes_per_layer = nodes_per_layer\n",
        "        self.input_shape = 784\n",
        "        self.output_shape = 10\n",
        "\n",
        "        self.weights_ = []\n",
        "        self.biases_ = []\n",
        "        self.__init_weights(nodes_per_layer)\n",
        "\n",
        "    def __init_weights(self, nodes_per_layer):\n",
        "        '''Initializes all weights based on standard normal distribution and all biases to 0.'''\n",
        "        '''Initialize weights for each layer except the input layer, since it does not have weights.'''\n",
        "        \n",
        "        ###### Code Here ######\n",
        "        self.weights_.append(np.random.normal(size= (self.nodes_per_layer[0],self.input_shape)))\n",
        "        self.biases_.append(np.zeros(shape=(self.nodes_per_layer[0],1)))\n",
        "\n",
        "        #loop\n",
        "        for i in range(len(self.nodes_per_layer)):\n",
        "          if i == 0: #sasta kaam\n",
        "            continue\n",
        "          self.weights_.append(np.random.normal(size= (self.nodes_per_layer[i],self.nodes_per_layer[i-1])))\n",
        "          self.biases_.append(np.zeros(shape=(self.nodes_per_layer[i],1)))\n",
        "        \n",
        "        self.weights_.append(np.random.normal(size= (self.output_shape,self.nodes_per_layer[-1])))\n",
        "        self.biases_.append(np.zeros(shape=(self.output_shape,1)))\n",
        "       \n",
        "    \n",
        "    def forward_pass(self, input_data):\n",
        "        '''Executes the feed forward algorithm.\n",
        "        \"input_data\" is the input to the network in row-major form\n",
        "        Returns \"activations\", which is a list of all layer outputs (excluding input layer of course)'''\n",
        "        \n",
        "        ###### Code Here ######\n",
        "        activations = [] #initialize\n",
        "        # print(\"inputdatashape\",input_data.shape)\n",
        "        # print(self.weights_[0].shape)\n",
        "        a = np.dot(self.weights_[0],input_data.T) \n",
        "        # print(\"a shape\", a.shape)\n",
        "        a += self.biases_[0]\n",
        "\n",
        "        z = NeuralNetwork.sigmoid(a) \n",
        "\n",
        "        activations.append(z)\n",
        "\n",
        "        for i in range(1,len(self.nodes_per_layer)):\n",
        "          a_i = np.dot(self.weights_[i],activations[-1]) + self.biases_[i]\n",
        "          z_i = NeuralNetwork.sigmoid(a_i)\n",
        "          activations.append(z_i)\n",
        "        \n",
        "        a_o = np.dot(self.weights_[-1],activations[-1]) + self.biases_[-1]\n",
        "        z_o = NeuralNetwork.softmax(a_o)\n",
        "        activations.append(z_o.T)\n",
        "\n",
        "        return activations\n",
        "\n",
        "    def backward_pass(self, targets, layer_activations):\n",
        "        '''Executes the backpropogation algorithm.\n",
        "        \"targets\" is the ground truth/labels\n",
        "        \"layer_activations\" are the return value of the forward pass step\n",
        "        Returns \"deltas\", which is a list containing weight update values for all layers (excluding the input layer of course)'''\n",
        "        \n",
        "        ###### Code Here ######\n",
        "        deltas = []\n",
        "\n",
        "        d_b_o = layer_activations[-1] - targets\n",
        "        d_b_o = d_b_o.T\n",
        "        deltas.append(d_b_o)\n",
        "\n",
        "        for i in range(len(self.nodes_per_layer)-1,-1,-1):\n",
        "          dy_dz_h = (layer_activations[i])*(1-(layer_activations[i]))\n",
        "          dy_dz = np.dot(self.weights_[i+1].T,deltas[-1])\n",
        "          multiplication = np.multiply(dy_dz,dy_dz_h)\n",
        "          deltas.append(multiplication)\n",
        "        \n",
        "        deltas.reverse()\n",
        "        return deltas\n",
        "    \n",
        "    def weight_update(self, deltas, layer_inputs, lr):\n",
        "        '''Executes the gradient descent algorithm.\n",
        "        \"deltas\" is return value of the backward pass step\n",
        "        \"layer_inputs\" is a list containing the inputs for all layers (including the input layer)\n",
        "        \"lr\" is the learning rate'''\n",
        "        \n",
        "        ###### Code Here ######\n",
        "        for i in range(len(self.weights_)):\n",
        "          if i == 0:\n",
        "            transpose = layer_inputs[i]\n",
        "          else:\n",
        "            transpose = layer_inputs[i].T\n",
        "          gradient = np.dot(deltas[i],transpose)\n",
        "          self.weights_[i] -= lr*gradient\n",
        "          self.biases_[i] -= lr*deltas[i]\n",
        "    \n",
        "    ###### Do Not Change Anything Below this line in This Cell ######\n",
        "    \n",
        "    def fit(self, Xs, Ys, epochs, lr=1e-3):\n",
        "            history = []\n",
        "            for epoch in tqdm_notebook(range(epochs)):\n",
        "                num_samples = Xs.shape[0]\n",
        "                for i in range(num_samples):\n",
        "\n",
        "                    sample_input = Xs[i,:].reshape((1,self.input_shape))\n",
        "                    sample_target = Ys[i,:].reshape((1,self.output_shape))\n",
        "                    \n",
        "                    activations = self.forward_pass(sample_input)   # Call forward_pass function \n",
        "                    deltas = self.backward_pass(sample_target, activations)    # Call backward_pass function \n",
        "                    layer_inputs = [sample_input] + activations[:-1]\n",
        "                    \n",
        "                    # Call weight_update function \n",
        "                    self.weight_update(deltas, layer_inputs, lr)\n",
        "                \n",
        "                preds = self.predict(Xs)   # Call predict function \n",
        "\n",
        "                current_loss = self.cross_entropy_loss(preds, Ys)\n",
        "                \n",
        "                if  epoch==epochs-1:\n",
        "                  confusion_mat=confusion_matrix(Ys.argmax(axis=1), preds.argmax(axis=1),labels=np.arange(10))  \n",
        "                  plot_confusion_matrix(confusion_mat)\n",
        "                  report = classification_report(Ys, np_utils.to_categorical(preds.argmax(axis=1),num_classes=classes), target_names=class_labels)\n",
        "                  print(report)\n",
        "                history.append(current_loss)\n",
        "            return history\n",
        "    \n",
        "    def predict(self, Xs):\n",
        "        '''Returns the model predictions (output of the last layer) for the given \"Xs\".'''\n",
        "        predictions = []\n",
        "        num_samples = Xs.shape[0]\n",
        "        for i in range(num_samples):\n",
        "            sample = Xs[i,:].reshape((1,self.input_shape))\n",
        "            sample_prediction = self.forward_pass(sample)[-1]\n",
        "            predictions.append(sample_prediction.reshape((self.output_shape,)))\n",
        "        return np.array(predictions)\n",
        "    \n",
        "    def evaluate(self, Xs, Ys):\n",
        "        '''Returns appropriate metrics for the task, calculated on the dataset passed to this method.'''\n",
        "        pred = self.predict(Xs)\n",
        "        return self.cross_entropy_loss(pred, Ys), self.accuracy(pred.argmax(axis=1), Ys.argmax(axis=1))\n",
        "    \n",
        "    def plot_model(self, filename):\n",
        "        '''Provide the \"filename\" as a string including file extension. Creates an image showing the model as a graph.'''\n",
        "        graph = pydot.Dot(graph_type='digraph')\n",
        "        graph.set_rankdir('LR')\n",
        "        graph.set_node_defaults(shape='circle', fontsize=0)\n",
        "        nodes_per_layer = [self.input_shape, self.hidden_shape, self.output_shape]\n",
        "        for i in range(self.num_layers-1):\n",
        "            for n1 in range(nodes_per_layer[i]):\n",
        "                for n2 in range(nodes_per_layer[i+1]):\n",
        "                    edge = pydot.Edge(f'l{i}n{n1}', f'l{i+1}n{n2}')\n",
        "                    graph.add_edge(edge)\n",
        "        graph.write_png(filename)"
      ],
      "execution_count": 5,
      "outputs": []
    },
    {
      "cell_type": "code",
      "metadata": {
        "id": "Ew6nN0HyfbSd"
      },
      "source": [
        "# These are what we call the hyperparameters (a.k.a Black Magic). You need to research on them and tweak them to see what generates the best result for you \n",
        "\n",
        "EPOCH = 20            # must be an int\n",
        "LEARNING_RATE = 0.01\n",
        "nodes_per_layer = [150,75]  #int values for nodes of each layer. # of hidden layers >= 2. "
      ],
      "execution_count": 6,
      "outputs": []
    },
    {
      "cell_type": "code",
      "metadata": {
        "id": "z6TTr8h1fo4l",
        "colab": {
          "base_uri": "https://localhost:8080/",
          "height": 1000,
          "referenced_widgets": [
            "15e2f52131094701b09facacb2cd33ea",
            "492f0a0e883447aab3aa8826bb7dafb0",
            "6fd8bd9c751542e1a82da9af93b1ea1a",
            "dc3c0c194aae4e56b73be5fbe4ce11cc",
            "720892db49eb4e0bba20642c4bbbc99c",
            "0ad56fb6791f44f4bdcf510335feff16",
            "66ac309172ee40b9b0e54b93352e985e",
            "9518c9d9fd334b8fb44f68619840f38c"
          ]
        },
        "outputId": "02cf1a41-da8c-469c-8a75-e3ed2da274a0"
      },
      "source": [
        "start = time.time()\n",
        "\n",
        "# Instantiate the neural network with the number of nodes you choose per layer, right now it is done for three layers only.\n",
        "nn = NeuralNetwork(nodes_per_layer=nodes_per_layer)\n",
        "history = nn.fit(X_train, y_train, epochs=EPOCH, lr=LEARNING_RATE)\n",
        "plt.plot(history);\n",
        "plt.gca().set(xlabel='Epoch', ylabel='Cross-entropy', title='Training Plot {}'.format(rollnumber));\n",
        "end = time.time()\n",
        "\n",
        "print(\"Runtime of the algorithm is \", round((end - start),3),\" seconds\")\n",
        "\n",
        "# print accuracy on test set here\n",
        "# Copy Code Here\n",
        "print(nn.evaluate(X_test,y_test))"
      ],
      "execution_count": 7,
      "outputs": [
        {
          "output_type": "stream",
          "text": [
            "/usr/local/lib/python3.7/dist-packages/ipykernel_launcher.py:147: TqdmDeprecationWarning: This function will be removed in tqdm==5.0.0\n",
            "Please use `tqdm.notebook.tqdm` instead of `tqdm.tqdm_notebook`\n"
          ],
          "name": "stderr"
        },
        {
          "output_type": "display_data",
          "data": {
            "application/vnd.jupyter.widget-view+json": {
              "model_id": "15e2f52131094701b09facacb2cd33ea",
              "version_minor": 0,
              "version_major": 2
            },
            "text/plain": [
              "HBox(children=(FloatProgress(value=0.0, max=20.0), HTML(value='')))"
            ]
          },
          "metadata": {
            "tags": []
          }
        },
        {
          "output_type": "display_data",
          "data": {
            "image/png": "[encoded data removed]",
            "text/plain": [
              "<Figure size 1080x648 with 2 Axes>"
            ]
          },
          "metadata": {
            "tags": [],
            "needs_background": "light"
          }
        },
        {
          "output_type": "stream",
          "text": [
            "                precision    recall  f1-score   support\n",
            "\n",
            "   T-shirt/top       0.83      0.87      0.85      6000\n",
            " Trouser/pants       0.99      0.97      0.98      6000\n",
            "Pullover shirt       0.81      0.81      0.81      6000\n",
            "         Dress       0.89      0.92      0.90      6000\n",
            "          Coat       0.78      0.85      0.82      6000\n",
            "        Sandal       0.99      0.97      0.98      6000\n",
            "         Shirt       0.77      0.62      0.69      6000\n",
            "       Sneaker       0.95      0.97      0.96      6000\n",
            "           Bag       0.95      0.98      0.96      6000\n",
            "    Ankle boot       0.97      0.96      0.97      6000\n",
            "\n",
            "     micro avg       0.89      0.89      0.89     60000\n",
            "     macro avg       0.89      0.89      0.89     60000\n",
            "  weighted avg       0.89      0.89      0.89     60000\n",
            "   samples avg       0.89      0.89      0.89     60000\n",
            "\n",
            "\n",
            "Runtime of the algorithm is  1260.597  seconds\n",
            "(4498.34160958926, 0.8476)\n"
          ],
          "name": "stdout"
        },
        {
          "output_type": "display_data",
          "data": {
            "image/png": "[encoded data removed]",
            "text/plain": [
              "<Figure size 432x288 with 1 Axes>"
            ]
          },
          "metadata": {
            "tags": []
          }
        }
      ]
    },
    {
      "cell_type": "markdown",
      "metadata": {
        "id": "uXdl3d98idec"
      },
      "source": [
        "#### <b>PART 2</b>\n",
        "\n",
        "Now that your NN model has been replicated and trained, we move on to the actual part of this phase i.e. making your own dataset. The instruction for creating your own dataset are as follows:\n",
        "\n",
        "- Each group has to create a dataset of 50 images (preferred way to go about this is that each member takes 10 pictures for the dataset)\n",
        "- Make sure that all the classes/categories that are there in the Fashion MNIST dataset are covered in these 50 pictures. \n",
        "- Make sure that that there is no class imbalance in your dataset. Class imbalance is when one or more classes have more images/data than others\n",
        "- Once done with taking the pictures, add them into folders where the name of the folder will be the label of that image (for reference, you can have a look at how phase 1's dataset was organized as you essentially have to replicate that directory tree with the only difference is that there will only be `test` folder as this dataset is only being used for evaluation purposes)\n",
        "- Zip the dataset and upload it on your Google Drive. You will have to mount your drive and import your dataset in the same way as it was done in phase 1\n",
        "\n",
        "Once done, you will be reading the your dataset in the notebook and storing it in variables (please make sure that you are not overwriting any variable from Part 1). This will be followed by preprocessing that you will have to do on the images an finally, you will be able to evalute your model \n",
        "\n",
        "<b>Note: It is important that you know the classes/categories, shape and other information regarding the Fashion MNIST dataset on which your model is trained because for your own dataset, you will have to generate the data/images such that they are inline with those same properties and classes otherwise your network will make a lot of misclassifications. You can read up on the Fashion MNIST dataset [here](https://www.kaggle.com/zalando-research/fashionmnist): to familiarize yourself with the dataset</b>"
      ]
    },
    {
      "cell_type": "code",
      "metadata": {
        "id": "YIRg28XDmf4K",
        "colab": {
          "base_uri": "https://localhost:8080/"
        },
        "outputId": "7626797e-a1a1-4252-833d-24e4e18e1ad2"
      },
      "source": [
        "# Mounting Google Drive here\n",
        "drive.mount('/drive', force_remount=True)\n",
        "\n",
        "# Edit this address so that it points to the dataset's zipped file on your Google Drive\n",
        "!unzip -o -q \"/drive/MyDrive/Colab Notebooks/phase 3/group12_Dataset.zip\" -d \"/dataset/\""
      ],
      "execution_count": 8,
      "outputs": [
        {
          "output_type": "stream",
          "text": [
            "Mounted at /drive\n"
          ],
          "name": "stdout"
        }
      ]
    },
    {
      "cell_type": "code",
      "metadata": {
        "id": "j0ll0f79mqPY",
        "colab": {
          "base_uri": "https://localhost:8080/"
        },
        "outputId": "c5472140-b8ec-44cc-ebb4-32c7287c1b1c"
      },
      "source": [
        "classes = 10  # do not change this\n",
        "my_X_test = []   # you must store the test images of your dataset in this varaible\n",
        "x_test_2 = np.array([])\n",
        "my_y_test = []   # you must store the test images' labels of your dataset in this varaible\n",
        "markers_identifiers = []\n",
        "\n",
        "###### Code Here ######\n",
        "'''Please note that you will have to extarct and one-hot encode the labels of the images for my_y_test'''\n",
        "for i in glob.glob('/dataset/group12_Dataset/**/*.png'):\n",
        "  #print(i)\n",
        "  img = cv2.imread(i,0)\n",
        "  img_inv = (img/255.0)\n",
        "  my_X_test.append(img_inv)\n",
        "  fn = i.split('/')[3]\n",
        "  if (fn == 'Anklefoot'):\n",
        "    marker = [1,0,0,0,0,0,0,0,0,0]\n",
        "    markers_identifiers.append(np.array(marker))\n",
        "  elif (fn == 'pullover'):\n",
        "    marker = [0,0,0,0,0,1,0,0,0,0]\n",
        "    markers_identifiers.append(np.array(marker))\n",
        "  elif (fn == 'coats'):\n",
        "    marker = [0,0,1,0,0,0,0,0,0,0]\n",
        "    markers_identifiers.append(np.array(marker))\n",
        "  elif (fn == 'dress'):\n",
        "    marker = [0,0,0,1,0,0,0,0,0,0]\n",
        "    markers_identifiers.append(np.array(marker))\n",
        "  elif (fn == 'bag'):\n",
        "    marker = [0,1,0,0,0,0,0,0,0,0]\n",
        "    markers_identifiers.append(np.array(marker))\n",
        "  elif (fn == 'sandal'):\n",
        "    marker = [0,0,0,0,0,0,1,0,0,0]\n",
        "    markers_identifiers.append(np.array(marker))\n",
        "  elif (fn == 'shirt'):\n",
        "    marker = [0,0,0,0,0,0,0,1,0,0]\n",
        "    markers_identifiers.append(np.array(marker))\n",
        "  elif (fn == 'trouser_pants'):\n",
        "    marker = [0,0,0,0,1,0,0,0,0,0]\n",
        "    markers_identifiers.append(np.array(marker))\n",
        "  elif (fn == 'sneaker'):\n",
        "    marker = [0,0,0,0,0,0,0,0,1,0]\n",
        "    markers_identifiers.append(np.array(marker))\n",
        "  elif (fn == 'T-shirt'):\n",
        "    marker = [0,0,0,0,0,0,0,0,0,1]\n",
        "    markers_identifiers.append(np.array(marker))\n",
        "  \n",
        "my_y_test = np.array(markers_identifiers)\n",
        "#my_X_test = np.array(my_X_test) # read from the data \n",
        "\n",
        "print(\"Number of images in the dataset: \", len(my_X_test))    # You can change len(X_test) based on your implementation such that total number of test samples is printed"
      ],
      "execution_count": 32,
      "outputs": [
        {
          "output_type": "stream",
          "text": [
            "Number of images in the dataset:  50\n"
          ],
          "name": "stdout"
        }
      ]
    },
    {
      "cell_type": "markdown",
      "metadata": {
        "id": "u3zn9yeBnCSZ"
      },
      "source": [
        "Now you have to do the preprocessing of the images such that they are inline with the image properties of the images of Fashion MNIST dataset. This is the core task of this phase and completely dependent on your own research on preprocessing of data\n",
        "\n",
        "<b>HINT: Data Normalization is one of the ways the data is preprocessed</b>"
      ]
    },
    {
      "cell_type": "code",
      "metadata": {
        "id": "jCYWtB7Fm_Wt",
        "colab": {
          "base_uri": "https://localhost:8080/"
        },
        "outputId": "00a4de55-24db-4bc6-bcb7-00f36c438820"
      },
      "source": [
        "'''Do data preprocessing here. Whatever you do here, please make sure that at the very end your images are in my_X_test and labels are in my_y_test'''\n",
        "###### Code Here ######\n",
        "\n",
        "for i in range(50):\n",
        "  my_X_test[i]  = cv2.resize(my_X_test[i],dsize = (28,28),interpolation=cv2.INTER_AREA) ## converting the images to 28 by 28\n",
        "  \n",
        "\n",
        "for i in range(50):\n",
        "  my_X_test[i] = (my_X_test[i].flatten()) #covnerting the shape from 50, 28,28 to 50,784\n",
        "  # np.append(x_test_2,np.array(my_X_test[i].flatten().reshape(784,1)))\n",
        "\n",
        "\n",
        "my_X_test = np.array(my_X_test)\n",
        "#print(my_X_test[0]) # printing the shape of any 1 image to verify the shape\n",
        "print(my_X_test.shape)\n",
        "print(my_y_test.shape) #printing the shape of ytest which should be 50 by 10\n",
        "\n",
        "\n"
      ],
      "execution_count": 33,
      "outputs": [
        {
          "output_type": "stream",
          "text": [
            "(50, 784)\n",
            "(50, 10)\n"
          ],
          "name": "stdout"
        }
      ]
    },
    {
      "cell_type": "code",
      "metadata": {
        "id": "8oab3cwsoBat",
        "colab": {
          "base_uri": "https://localhost:8080/"
        },
        "outputId": "b4c725d1-ba87-42c1-8b66-598d3e609df2"
      },
      "source": [
        "# print accuracy on your own dataset here\n",
        "print(nn.evaluate(my_X_test,my_y_test))"
      ],
      "execution_count": 41,
      "outputs": [
        {
          "output_type": "stream",
          "text": [
            "(406.2689954345502, 0.12)\n"
          ],
          "name": "stdout"
        }
      ]
    }
  ]
}